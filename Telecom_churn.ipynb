{
  "nbformat": 4,
  "nbformat_minor": 0,
  "metadata": {
    "colab": {
      "provenance": [],
      "authorship_tag": "ABX9TyMU5eFZT5/Oo53Z+s3f6LyD",
      "include_colab_link": true
    },
    "kernelspec": {
      "name": "python3",
      "display_name": "Python 3"
    },
    "language_info": {
      "name": "python"
    }
  },
  "cells": [
    {
      "cell_type": "markdown",
      "metadata": {
        "id": "view-in-github",
        "colab_type": "text"
      },
      "source": [
        "<a href=\"https://colab.research.google.com/github/KOUSHIKI97/Telecom_churn/blob/main/Telecom_churn.ipynb\" target=\"_parent\"><img src=\"https://colab.research.google.com/assets/colab-badge.svg\" alt=\"Open In Colab\"/></a>"
      ]
    },
    {
      "cell_type": "code",
      "execution_count": null,
      "metadata": {
        "id": "gqV7Y5Zjn1Id"
      },
      "outputs": [],
      "source": []
    },
    {
      "cell_type": "markdown",
      "source": [
        "***Telecom Churn Prediction Project***"
      ],
      "metadata": {
        "id": "ykJGhOaLoAym"
      }
    },
    {
      "cell_type": "markdown",
      "source": [
        "1. ***Introduction***\n",
        "In this project, we aim to predict churn among high-value customers in a telecom dataset. We'll focus on:\n",
        "\n",
        "Identifying high-value customers.\n",
        "Tagging churners based on usage data.\n",
        "Building models to predict churn and interpret important features."
      ],
      "metadata": {
        "id": "mEOESm3poHRt"
      }
    },
    {
      "cell_type": "markdown",
      "source": [
        "2. ***Data Loading and Exploration***:-\n",
        "Load Libraries and Dataset"
      ],
      "metadata": {
        "id": "MA2rgDLcoUzq"
      }
    },
    {
      "cell_type": "code",
      "source": [
        "# Import necessary libraries\n",
        "import pandas as pd\n",
        "import numpy as np\n",
        "from sklearn.model_selection import train_test_split\n",
        "from sklearn.linear_model import LogisticRegression\n",
        "from sklearn.ensemble import RandomForestClassifier\n",
        "from sklearn.metrics import classification_report, accuracy_score\n",
        "from sklearn.preprocessing import StandardScaler\n",
        "from imblearn.over_sampling import SMOTE\n",
        "import matplotlib.pyplot as plt\n",
        "import seaborn as sns\n",
        "\n",
        "# Load the dataset\n",
        "data = pd.read_csv('/mnt/data/telecom_churn_data.csv')\n",
        "\n",
        "# Display basic information\n",
        "data.info()\n",
        "data.head()\n"
      ],
      "metadata": {
        "id": "J1pfrMc9of4s"
      },
      "execution_count": null,
      "outputs": []
    },
    {
      "cell_type": "markdown",
      "source": [
        "***Basic Data Cleaning***:-\n",
        "Check for and handle missing values if necessary."
      ],
      "metadata": {
        "id": "eSOFJMzTooDa"
      }
    },
    {
      "cell_type": "code",
      "source": [
        "# Check for missing values\n",
        "missing_values = data.isnull().sum()\n",
        "print(missing_values[missing_values > 0])\n"
      ],
      "metadata": {
        "id": "m58fmAiHo0dR"
      },
      "execution_count": null,
      "outputs": []
    },
    {
      "cell_type": "markdown",
      "source": [
        "3. ***Define High-Value Customers***:-\n",
        "Calculate Average Recharge and Filter"
      ],
      "metadata": {
        "id": "S8euyaV9o8UU"
      }
    },
    {
      "cell_type": "code",
      "source": [
        "# Calculate average recharge amount for the good phase (first two months)\n",
        "data['avg_recharge_good_phase'] = data[['recharge_amt_1', 'recharge_amt_2']].mean(axis=1)\n",
        "\n",
        "# Define high-value customers as those in the 70th percentile or above\n",
        "X = data['avg_recharge_good_phase'].quantile(0.70)\n",
        "high_value_customers = data[data['avg_recharge_good_phase'] >= X]\n",
        "print(f\"Number of high-value customers: {len(high_value_customers)}\")\n"
      ],
      "metadata": {
        "id": "E4ACt_s9pTKV"
      },
      "execution_count": null,
      "outputs": []
    },
    {
      "cell_type": "markdown",
      "source": [
        "4. ***Tag Churners and Remove Churn Phase Attributes***\n",
        "Tagging Churners :- Tag churners based on the conditions provided for month 9."
      ],
      "metadata": {
        "id": "SG490sTNrjEr"
      }
    },
    {
      "cell_type": "code",
      "source": [
        "# Tag churners: churn = 1 if no incoming/outgoing calls and no data usage in month 9\n",
        "high_value_customers['churn'] = ((high_value_customers['total_ic_mou_9'] == 0) &\n",
        "                                 (high_value_customers['total_og_mou_9'] == 0) &\n",
        "                                 (high_value_customers['vol_2g_mb_9'] == 0) &\n",
        "                                 (high_value_customers['vol_3g_mb_9'] == 0)).astype(int)\n"
      ],
      "metadata": {
        "id": "WboQiYIrr4te"
      },
      "execution_count": null,
      "outputs": []
    },
    {
      "cell_type": "markdown",
      "source": [
        "***Remove Churn Phase Attributes***:-\n",
        "Remove all attributes related to month 9."
      ],
      "metadata": {
        "id": "tt-tvVtCr8yY"
      }
    },
    {
      "cell_type": "code",
      "source": [
        "# Define features (X) and target (y)\n",
        "X = high_value_customers.drop(columns=['churn'])\n",
        "y = high_value_customers['churn']\n",
        "\n",
        "# Split into training and test sets\n",
        "X_train, X_test, y_train, y_test = train_test_split(X, y, test_size=0.3, random_state=42)\n"
      ],
      "metadata": {
        "id": "UW8iQLaqsFag"
      },
      "execution_count": null,
      "outputs": []
    },
    {
      "cell_type": "markdown",
      "source": [
        "5. ***Model Building***:-\n",
        "Split Data:- Separate features and target, and split into training and test sets."
      ],
      "metadata": {
        "id": "Z8EwOt1NsJ6C"
      }
    },
    {
      "cell_type": "code",
      "source": [
        "# Define features (X) and target (y)\n",
        "X = high_value_customers.drop(columns=['churn'])\n",
        "y = high_value_customers['churn']\n",
        "\n",
        "# Split into training and test sets\n",
        "X_train, X_test, y_train, y_test = train_test_split(X, y, test_size=0.3, random_state=42)\n"
      ],
      "metadata": {
        "id": "rKLBOfJrsa8O"
      },
      "execution_count": null,
      "outputs": []
    },
    {
      "cell_type": "markdown",
      "source": [
        "***Handle Class Imbalance with SMOTE***"
      ],
      "metadata": {
        "id": "iIs41sfeshOn"
      }
    },
    {
      "cell_type": "code",
      "source": [
        "# Apply SMOTE to balance the target classes\n",
        "smote = SMOTE(random_state=42)\n",
        "X_train_smote, y_train_smote = smote.fit_resample(X_train, y_train)\n"
      ],
      "metadata": {
        "id": "o5wP2g9esufe"
      },
      "execution_count": null,
      "outputs": []
    },
    {
      "cell_type": "markdown",
      "source": [
        "6. ***Model Training and Evaluation***:-\n",
        "Logistic Regression Model for Feature Importance"
      ],
      "metadata": {
        "id": "aE_q7ot6s0HE"
      }
    },
    {
      "cell_type": "code",
      "source": [
        "# Train a Logistic Regression model to identify important predictors\n",
        "log_model = LogisticRegression(max_iter=1000)\n",
        "log_model.fit(X_train_smote, y_train_smote)\n",
        "\n",
        "# Make predictions and evaluate\n",
        "y_pred_log = log_model.predict(X_test)\n",
        "print(\"Logistic Regression Classification Report:\\n\", classification_report(y_test, y_pred_log))\n",
        "\n",
        "# Feature Importance (Logistic Regression coefficients)\n",
        "feature_importance_log = pd.Series(log_model.coef_[0], index=X.columns).sort_values(ascending=False)\n"
      ],
      "metadata": {
        "id": "Wih_e1HMtDNV"
      },
      "execution_count": null,
      "outputs": []
    },
    {
      "cell_type": "markdown",
      "source": [
        "***Random Forest Model for Churn prediction***:-"
      ],
      "metadata": {
        "id": "o4MZrRaFtG0I"
      }
    },
    {
      "cell_type": "code",
      "source": [
        "# Train a Random Forest model for churn prediction\n",
        "rf_model = RandomForestClassifier(random_state=42)\n",
        "rf_model.fit(X_train_smote, y_train_smote)\n",
        "\n",
        "# Make predictions and evaluate\n",
        "y_pred_rf = rf_model.predict(X_test)\n",
        "print(\"Random Forest Classification Report:\\n\", classification_report(y_test, y_pred_rf))\n"
      ],
      "metadata": {
        "id": "GFX15EuQtV-G"
      },
      "execution_count": null,
      "outputs": []
    },
    {
      "cell_type": "markdown",
      "source": [
        "7. ***Feature Importance Visualization***:-"
      ],
      "metadata": {
        "id": "YMB9Ip76ta0j"
      }
    },
    {
      "cell_type": "markdown",
      "source": [
        "**Logistic Regression Coefficients**"
      ],
      "metadata": {
        "id": "xwlHPhlxtirR"
      }
    },
    {
      "cell_type": "code",
      "source": [
        "# Plot feature importance from Logistic Regression\n",
        "plt.figure(figsize=(10, 8))\n",
        "feature_importance_log.plot(kind='bar')\n",
        "plt.title(\"Feature Importance - Logistic Regression\")\n",
        "plt.xlabel(\"Features\")\n",
        "plt.ylabel(\"Importance\")\n",
        "plt.show()\n"
      ],
      "metadata": {
        "id": "NBaLSqqetpD7"
      },
      "execution_count": null,
      "outputs": []
    },
    {
      "cell_type": "markdown",
      "source": [
        "***Random Forest Feature Importances***"
      ],
      "metadata": {
        "id": "0e2pgp4DttOS"
      }
    },
    {
      "cell_type": "code",
      "source": [
        "# Plot feature importance from Random Forest\n",
        "feature_importance_rf = pd.Series(rf_model.feature_importances_, index=X.columns).sort_values(ascending=False)\n",
        "plt.figure(figsize=(10, 8))\n",
        "feature_importance_rf.plot(kind='bar')\n",
        "plt.title(\"Feature Importance - Random Forest\")\n",
        "plt.xlabel(\"Features\")\n",
        "plt.ylabel(\"Importance\")\n",
        "plt.show()\n"
      ],
      "metadata": {
        "id": "k1T2zoqGtz3M"
      },
      "execution_count": null,
      "outputs": []
    },
    {
      "cell_type": "markdown",
      "source": [
        "8. ***Recommendations to Manage Customer Churn***:-\n",
        "Based on the identified important features and model findings, we can recommend the following actions:\n",
        "\n",
        "1. **Target high-risk customers**: For customers who show signs of reduced engagement (low call or data usage), offer tailored retention plans or discounts.\n",
        "2. **Monitor usage patterns**: Monitor changes in key usage variables, such as call minutes and data consumption. Significant drops may indicate increased churn risk.\n",
        "3. **Offer customized plans**: For customers who show heavy usage of certain services (e.g., data-heavy users), provide special data packages or loyalty bonuses to maintain engagement."
      ],
      "metadata": {
        "id": "yMbA46Twt5OE"
      }
    },
    {
      "cell_type": "markdown",
      "source": [
        "***Conclusion ***:- This analysis offers valuable insights into customer behavior and supports targeted interventions to reduce churn among high-value customers. By implementing personalized retention strategies, telecom companies can strengthen customer loyalty, enhance revenue stability, and reduce the cost associated with customer acquisition. With ongoing monitoring and refinement, these predictive models can continue to offer meaningful support to customer retention efforts.\n",
        "\n",
        "This project provides a foundation for further analysis, including deeper exploration of customer segments and a more granular understanding of usage patterns, which can lead to even more customized and effective retention strategies."
      ],
      "metadata": {
        "id": "LVp2OdNNupbw"
      }
    }
  ]
}